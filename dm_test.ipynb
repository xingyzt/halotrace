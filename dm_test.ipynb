{
 "cells": [
  {
   "cell_type": "code",
   "execution_count": 1,
   "id": "e325a38d-09fa-49e2-8888-60ad96a0ee97",
   "metadata": {},
   "outputs": [],
   "source": [
    "import numpy as np\n",
    "import matplotlib.pyplot as plt\n",
    "import h5py\n",
    "import time"
   ]
  },
  {
   "cell_type": "code",
   "execution_count": 2,
   "id": "804d2361-75b6-42a4-ab6d-0041898d7a8d",
   "metadata": {},
   "outputs": [],
   "source": [
    "import astropy.units as u\n",
    "import astropy.cosmology.units as cu\n",
    "import astropy.constants as const"
   ]
  },
  {
   "cell_type": "code",
   "execution_count": 3,
   "id": "1441852a-b284-44b1-9550-c47dd1f0b828",
   "metadata": {},
   "outputs": [],
   "source": [
    "import raytrace"
   ]
  },
  {
   "cell_type": "code",
   "execution_count": 4,
   "id": "8606fce4-7c16-46d7-ae83-07f10a205025",
   "metadata": {},
   "outputs": [],
   "source": [
    "with h5py.File('tng_cache/cutout_12925051.hdf5', 'r') as f:\n",
    "    m_g = (np.array(f['PartType0/Masses'], dtype=np.float64) * 1e10 * u.solMass / cu.littleh).to(u.kg/ cu.littleh)\n",
    "    eta_e = np.array(f['PartType0/ElectronAbundance'])\n",
    "    X_H = np.array(f['PartType0/GFM_Metals'][:,0])\n",
    "    pos = np.array(f['PartType0']['Coordinates'][:])\n",
    "    pos -= np.mean(pos, axis=0)\n",
    "    N_e = m_g * eta_e * X_H / const.m_p\n",
    "    "
   ]
  },
  {
   "cell_type": "code",
   "execution_count": 146,
   "id": "24abc710-6858-410b-9b0e-b6f1ac4e2019",
   "metadata": {
    "scrolled": true
   },
   "outputs": [
    {
     "name": "stdout",
     "output_type": "stream",
     "text": [
      "Total: 2.482205867767334 s\n",
      "Transform: 0.41617894172668457 s\n",
      "Truncate: 2.0566513538360596 s\n",
      "Voronoi: 0.006943464279174805 s\n",
      "Walk: 2.0566513538360596 s\n"
     ]
    },
    {
     "data": {
      "text/plain": [
       "1940.630648612976"
      ]
     },
     "execution_count": 146,
     "metadata": {},
     "output_type": "execute_result"
    }
   ],
   "source": [
    "test = pos[:100000]\n",
    "p1 = np.array([15, -40,0], dtype=np.float64)\n",
    "p2 = np.array([-15, -40,1], dtype=np.float64)\n",
    "intersects = raytrace.intersect(test, p1, p2)\n",
    "# mask = np.zeros(test.shape[0], dtype=int)\n",
    "# mask[intersects] = 1\n",
    "time.time() - t"
   ]
  },
  {
   "cell_type": "code",
   "execution_count": 141,
   "id": "c9e49104-fcda-4271-bcff-9a873e8421d5",
   "metadata": {},
   "outputs": [
    {
     "data": {
      "text/plain": [
       "<module 'raytrace' from '/home/xingyzt/Documents/halo/raytrace.py'>"
      ]
     },
     "execution_count": 141,
     "metadata": {},
     "output_type": "execute_result"
    }
   ],
   "source": [
    "import importlib\n",
    "importlib.reload(raytrace)"
   ]
  },
  {
   "cell_type": "code",
   "execution_count": 18,
   "id": "5d3e71b6-29fa-4145-b4ee-dc2e95de6942",
   "metadata": {},
   "outputs": [
    {
     "data": {
      "text/plain": [
       "802"
      ]
     },
     "execution_count": 18,
     "metadata": {},
     "output_type": "execute_result"
    }
   ],
   "source": [
    "len('..................................................................................................................................................................................................................................................................................................................................................................................................................................................................................................................................................................................................................................................................................................................................................................................................................................')"
   ]
  },
  {
   "cell_type": "code",
   "execution_count": null,
   "id": "f2480fc3-0e78-448b-98a1-2f1c829143b9",
   "metadata": {},
   "outputs": [],
   "source": []
  }
 ],
 "metadata": {
  "kernelspec": {
   "display_name": "Python 3 (ipykernel)",
   "language": "python",
   "name": "python3"
  },
  "language_info": {
   "codemirror_mode": {
    "name": "ipython",
    "version": 3
   },
   "file_extension": ".py",
   "mimetype": "text/x-python",
   "name": "python",
   "nbconvert_exporter": "python",
   "pygments_lexer": "ipython3",
   "version": "3.10.12"
  }
 },
 "nbformat": 4,
 "nbformat_minor": 5
}
