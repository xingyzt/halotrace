{
 "cells": [
  {
   "cell_type": "code",
   "execution_count": 87,
   "id": "e325a38d-09fa-49e2-8888-60ad96a0ee97",
   "metadata": {},
   "outputs": [],
   "source": [
    "import numpy as np\n",
    "import matplotlib.pyplot as plt\n",
    "import h5py\n",
    "import time"
   ]
  },
  {
   "cell_type": "code",
   "execution_count": 88,
   "id": "804d2361-75b6-42a4-ab6d-0041898d7a8d",
   "metadata": {},
   "outputs": [],
   "source": [
    "import astropy.units as u\n",
    "import astropy.cosmology.units as cu\n",
    "import astropy.constants as const"
   ]
  },
  {
   "cell_type": "code",
   "execution_count": 89,
   "id": "1441852a-b284-44b1-9550-c47dd1f0b828",
   "metadata": {},
   "outputs": [],
   "source": [
    "import raytrace"
   ]
  },
  {
   "cell_type": "code",
   "execution_count": 90,
   "id": "55eac560-1234-4b05-a3f3-e902019bb775",
   "metadata": {},
   "outputs": [],
   "source": [
    "group_id = str(12925051)"
   ]
  },
  {
   "cell_type": "code",
   "execution_count": 91,
   "id": "d01590f1-e3df-4af5-b62a-686d5777028c",
   "metadata": {},
   "outputs": [
    {
     "name": "stdout",
     "output_type": "stream",
     "text": [
      "<KeysViewHDF5 ['DM', 'DMSphere', 'Direction', 'GroupCM', 'GroupMassType', 'GroupSFR', 'Group_R_Crit500', 'Impact', 'RayID']>\n"
     ]
    }
   ],
   "source": [
    "with h5py.File(\"outputs/dm_proto.hdf5\", \"r\") as f:\n",
    "    print(f[group_id].keys())\n",
    "    cm = np.array(f[group_id]['GroupCM'], dtype=np.float64)\n",
    "    r500 = np.float64(f[group_id]['Group_R_Crit500'])"
   ]
  },
  {
   "cell_type": "code",
   "execution_count": 92,
   "id": "8606fce4-7c16-46d7-ae83-07f10a205025",
   "metadata": {},
   "outputs": [],
   "source": [
    "with h5py.File(f'tng_cache/cutout_{group_id}.hdf5', 'r') as f:\n",
    "    m_g = np.array(f['PartType0/Masses'], dtype=np.float64) * (1e10 * u.solMass).to(u.kg) / cu.littleh\n",
    "    rho_g = np.array(f['PartType0/Density'], dtype=np.float64) * (1e10 * u.solMass).to(u.kg) / cu.littleh / ( u.kpc / cu.littleh)**3\n",
    "    V = m_g/rho_g\n",
    "    r = ((0.75/np.pi)*V)**(1/3)\n",
    "    eta_e = np.array(f['PartType0/ElectronAbundance'])\n",
    "    X_H = np.array(f['PartType0/GFM_Metals'][:,0])\n",
    "    pos = np.array(f['PartType0/Coordinates'][:]) - cm\n",
    "    n_e = rho_g * eta_e * X_H / const.m_p"
   ]
  },
  {
   "cell_type": "code",
   "execution_count": 93,
   "id": "c13bf265-1761-4ec2-997c-7c0406467cd7",
   "metadata": {},
   "outputs": [
    {
     "data": {
      "text/plain": [
       "3000243"
      ]
     },
     "execution_count": 93,
     "metadata": {},
     "output_type": "execute_result"
    }
   ],
   "source": [
    "pos.size"
   ]
  },
  {
   "cell_type": "code",
   "execution_count": 94,
   "id": "6211c492-2a5c-405c-b061-2cb2df9d5fbc",
   "metadata": {},
   "outputs": [],
   "source": [
    "samples = 100"
   ]
  },
  {
   "cell_type": "code",
   "execution_count": 95,
   "id": "48594baf-4382-4089-b726-1cdc8051ea16",
   "metadata": {},
   "outputs": [],
   "source": [
    "indices = np.arange(samples, dtype=np.int64)\n",
    "impact = np.zeros((samples, 3), dtype=np.float64)\n",
    "direction = np.zeros((samples, 3), dtype=np.float64)\n",
    "dispersion = np.zeros(samples, dtype=np.float64)\n",
    "dispersion_sphere = np.zeros(samples, dtype=np.float64)"
   ]
  },
  {
   "cell_type": "code",
   "execution_count": 105,
   "id": "24abc710-6858-410b-9b0e-b6f1ac4e2019",
   "metadata": {
    "scrolled": true
   },
   "outputs": [
    {
     "name": "stdout",
     "output_type": "stream",
     "text": [
      "0 0.8385107517242432\n",
      "1 0.8189988136291504\n",
      "2 0.4873383045196533\n",
      "3 0.4115004539489746\n",
      "4 0.6405117511749268\n",
      "5 0.41675543785095215\n",
      "6 0.4558990001678467\n",
      "7 0.6972358226776123\n",
      "8 0.697014331817627\n",
      "9 0.492661714553833\n",
      "10 0.4763956069946289\n",
      "11 0.7983105182647705\n",
      "12 0.6609289646148682\n",
      "13 1.1684918403625488\n",
      "14 0.9006984233856201\n",
      "15 0.7863032817840576\n",
      "16 0.7510025501251221\n",
      "17 0.47999000549316406\n",
      "18 0.6086287498474121\n",
      "19 0.5351901054382324\n",
      "20 0.5818381309509277\n",
      "21 0.6219325065612793\n",
      "22 0.7005743980407715\n",
      "23 0.6873793601989746\n",
      "24 0.5128333568572998\n",
      "25 0.4633469581604004\n",
      "26 0.7198708057403564\n",
      "27 0.6357300281524658\n",
      "28 0.5652823448181152\n",
      "29 0.7088108062744141\n",
      "30 0.7586159706115723\n",
      "31 0.7278280258178711\n",
      "32 1.0225121974945068\n",
      "33 0.741891622543335\n",
      "34 0.5747148990631104\n",
      "35 0.7476723194122314\n",
      "36 0.6134870052337646\n",
      "37 0.6444649696350098\n",
      "38 0.7493021488189697\n",
      "39 0.4846479892730713\n",
      "40 0.6614990234375\n",
      "41 0.535027265548706\n",
      "42 0.9461393356323242\n",
      "43 0.6597015857696533\n",
      "44 0.6230051517486572\n",
      "45 0.7086663246154785\n",
      "46 0.7813718318939209\n",
      "47 0.6305446624755859\n",
      "48 0.8179879188537598\n",
      "49 0.7854485511779785\n",
      "50 0.8297500610351562\n",
      "51 0.7317841053009033\n",
      "52 0.8108572959899902\n",
      "53 0.7235822677612305\n",
      "54 0.8954849243164062\n",
      "55 0.732344388961792\n",
      "56 0.8007285594940186\n",
      "57 1.067215919494629\n",
      "58 0.6592073440551758\n",
      "59 0.5888462066650391\n",
      "60 0.9733338356018066\n",
      "61 0.6575086116790771\n",
      "62 0.7497482299804688\n",
      "63 1.2029671669006348\n",
      "64 1.2274723052978516\n",
      "65 0.9679896831512451\n",
      "66 0.6888933181762695\n",
      "67 1.2142925262451172\n",
      "68 0.9714155197143555\n",
      "69 0.9642808437347412\n",
      "70 0.7019398212432861\n",
      "71 0.513275146484375\n",
      "72 0.9525349140167236\n",
      "73 1.0471248626708984\n",
      "74 0.8241052627563477\n",
      "75 0.7087132930755615\n",
      "76 0.6652312278747559\n",
      "77 0.4955153465270996\n",
      "78 0.5476541519165039\n",
      "79 0.563788890838623\n",
      "80 0.49298667907714844\n",
      "81 0.6465554237365723\n",
      "82 0.9686403274536133\n",
      "83 0.6709578037261963\n",
      "84 0.6592960357666016\n",
      "85 0.8427615165710449\n",
      "86 0.8346450328826904\n",
      "87 0.6271507740020752\n",
      "88 0.705127477645874\n",
      "89 0.6468214988708496\n",
      "90 0.7740468978881836\n",
      "91 0.7746200561523438\n",
      "92 0.654949426651001\n",
      "93 0.6159741878509521\n",
      "94 0.8848996162414551\n",
      "95 0.8180036544799805\n",
      "96 0.8000638484954834\n",
      "97 0.7509143352508545\n",
      "98 0.8238213062286377\n",
      "99 0.5753428936004639\n"
     ]
    }
   ],
   "source": [
    "for i in indices:\n",
    "    t = time.time()\n",
    "    b = r500 * np.random.rand(3) # impact parameter\n",
    "    n = np.random.rand(3) # direction\n",
    "    n /= np.sqrt(raytrace.norm2(n))\n",
    "    intersects, lengths = raytrace.voronoi_intersect(pos, 5*r.value, b, n, log=False)\n",
    "    dm = np.sum(lengths * n_e.value[intersects])\n",
    "\n",
    "    impact[i] = b\n",
    "    direction[i] = n\n",
    "    dispersion[i] = dm\n",
    "    print(i, time.time() - t)\n"
   ]
  },
  {
   "cell_type": "code",
   "execution_count": 106,
   "id": "42bcf62f-16be-4f48-9c69-80b1a4a22409",
   "metadata": {},
   "outputs": [
    {
     "name": "stdout",
     "output_type": "stream",
     "text": [
      "time: 0.034005317687988285\n"
     ]
    }
   ],
   "source": [
    "dispersion_sphere = np.zeros(samples, dtype=np.float64)\n",
    "for i in indices:\n",
    "    t = time.time()\n",
    "    b = impact[i]\n",
    "    n = direction[i]\n",
    "    intersects, lengths = raytrace.sphere_intersect(pos, r.value, b, n, log=False)\n",
    "    dm = np.sum(lengths * n_e.value[intersects])\n",
    "    dispersion_sphere[i] = dm\n",
    "    times.append(time.time() - t)\n",
    "print('time:',np.mean(times))"
   ]
  },
  {
   "cell_type": "code",
   "execution_count": 107,
   "id": "5d3e71b6-29fa-4145-b4ee-dc2e95de6942",
   "metadata": {},
   "outputs": [
    {
     "name": "stdout",
     "output_type": "stream",
     "text": [
      "<KeysViewHDF5 ['12925051']>\n"
     ]
    }
   ],
   "source": [
    "with h5py.File(\"outputs/dm_proto.hdf5\", \"a\") as f:\n",
    "    print(f.keys())\n",
    "    f[group_id][\"RayID\"][:] = indices\n",
    "    f[group_id][\"Impact\"][:] = impact\n",
    "    f[group_id][\"Direction\"][:] = direction\n",
    "    f[group_id][\"DM\"][:] = dispersion\n",
    "    f[group_id][\"DMSphere\"][:] = dispersion_sphere"
   ]
  },
  {
   "cell_type": "code",
   "execution_count": 108,
   "id": "1e61f9cf-a56f-4439-a5da-643014d420b2",
   "metadata": {},
   "outputs": [
    {
     "data": {
      "image/png": "[encoded data removed]",
      "text/plain": [
       "<Figure size 640x480 with 1 Axes>"
      ]
     },
     "metadata": {},
     "output_type": "display_data"
    }
   ],
   "source": [
    "with h5py.File(\"outputs/dm_proto.hdf5\", \"r\") as f:\n",
    "    plt.hist(np.array(f[group_id]['DMSphere'])/np.array(f[group_id]['DM']) - 1)\n",
    "    plt.xlabel('Sphere estimate vs Voronoi truth, relative error in DM')\n",
    "    plt.ylabel('counts')"
   ]
  },
  {
   "cell_type": "code",
   "execution_count": 104,
   "id": "57ed90b5-3740-49fc-9b14-935e3a080e13",
   "metadata": {},
   "outputs": [
    {
     "data": {
      "text/plain": [
       "<module 'raytrace' from '/home/xingyzt/Documents/halo/raytrace.py'>"
      ]
     },
     "execution_count": 104,
     "metadata": {},
     "output_type": "execute_result"
    }
   ],
   "source": [
    "import importlib\n",
    "importlib.reload(raytrace)"
   ]
  },
  {
   "cell_type": "code",
   "execution_count": null,
   "id": "215ac8bc-f2ab-48ea-ad7a-ef9d6a391838",
   "metadata": {},
   "outputs": [],
   "source": []
  }
 ],
 "metadata": {
  "kernelspec": {
   "display_name": "Python 3 (ipykernel)",
   "language": "python",
   "name": "python3"
  },
  "language_info": {
   "codemirror_mode": {
    "name": "ipython",
    "version": 3
   },
   "file_extension": ".py",
   "mimetype": "text/x-python",
   "name": "python",
   "nbconvert_exporter": "python",
   "pygments_lexer": "ipython3",
   "version": "3.10.12"
  }
 },
 "nbformat": 4,
 "nbformat_minor": 5
}
