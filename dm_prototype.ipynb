{
 "cells": [
  {
   "cell_type": "code",
   "execution_count": 1,
   "id": "e325a38d-09fa-49e2-8888-60ad96a0ee97",
   "metadata": {},
   "outputs": [],
   "source": [
    "import numpy as np\n",
    "import matplotlib.pyplot as plt\n",
    "import h5py\n",
    "import time"
   ]
  },
  {
   "cell_type": "code",
   "execution_count": 2,
   "id": "804d2361-75b6-42a4-ab6d-0041898d7a8d",
   "metadata": {},
   "outputs": [],
   "source": [
    "import astropy.units as u\n",
    "import astropy.cosmology.units as cu\n",
    "import astropy.constants as const"
   ]
  },
  {
   "cell_type": "code",
   "execution_count": 3,
   "id": "1441852a-b284-44b1-9550-c47dd1f0b828",
   "metadata": {},
   "outputs": [],
   "source": [
    "import raytrace"
   ]
  },
  {
   "cell_type": "code",
   "execution_count": 11,
   "id": "55eac560-1234-4b05-a3f3-e902019bb775",
   "metadata": {},
   "outputs": [],
   "source": [
    "group_id = str(12925051)"
   ]
  },
  {
   "cell_type": "code",
   "execution_count": 52,
   "id": "d01590f1-e3df-4af5-b62a-686d5777028c",
   "metadata": {},
   "outputs": [
    {
     "name": "stdout",
     "output_type": "stream",
     "text": [
      "<KeysViewHDF5 ['DM', 'Direction', 'GroupCM', 'GroupMassType', 'GroupSFR', 'Group_R_Crit500', 'Impact', 'RayID']>\n"
     ]
    }
   ],
   "source": [
    "with h5py.File(\"outputs/dm_proto.hdf5\", \"r\") as f:\n",
    "    print(f[group_id].keys())\n",
    "    cm = np.array(f[group_id]['GroupCM'], dtype=np.float64)\n",
    "    r500 = np.float64(f[group_id]['Group_R_Crit500'])"
   ]
  },
  {
   "cell_type": "code",
   "execution_count": 53,
   "id": "8606fce4-7c16-46d7-ae83-07f10a205025",
   "metadata": {},
   "outputs": [],
   "source": [
    "with h5py.File(f'tng_cache/cutout_{group_id}.hdf5', 'r') as f:\n",
    "    m_g = np.array(f['PartType0/Masses'], dtype=np.float64) * (1e10 * u.solMass).to(u.kg) / cu.littleh\n",
    "    rho_g = np.array(f['PartType0/Density'], dtype=np.float64) * (1e10 * u.solMass).to(u.kg) / cu.littleh / ( u.kpc / cu.littleh)**3\n",
    "    V = m_g/rho_g\n",
    "    r = ((0.75/np.pi)*V)**(1/3)\n",
    "    eta_e = np.array(f['PartType0/ElectronAbundance'])\n",
    "    X_H = np.array(f['PartType0/GFM_Metals'][:,0])\n",
    "    pos = np.array(f['PartType0/Coordinates'][:]) - cm\n",
    "    n_e = rho_g * eta_e * X_H / const.m_p"
   ]
  },
  {
   "cell_type": "code",
   "execution_count": 54,
   "id": "c13bf265-1761-4ec2-997c-7c0406467cd7",
   "metadata": {},
   "outputs": [
    {
     "data": {
      "text/plain": [
       "3000243"
      ]
     },
     "execution_count": 54,
     "metadata": {},
     "output_type": "execute_result"
    }
   ],
   "source": [
    "pos.size"
   ]
  },
  {
   "cell_type": "code",
   "execution_count": 55,
   "id": "6211c492-2a5c-405c-b061-2cb2df9d5fbc",
   "metadata": {},
   "outputs": [],
   "source": [
    "samples = 100"
   ]
  },
  {
   "cell_type": "code",
   "execution_count": 56,
   "id": "48594baf-4382-4089-b726-1cdc8051ea16",
   "metadata": {},
   "outputs": [],
   "source": [
    "indices = np.arange(samples, dtype=np.int64)\n",
    "impact = np.zeros((samples, 3), dtype=np.float64)\n",
    "direction = np.zeros((samples, 3), dtype=np.float64)\n",
    "dispersion = np.zeros(samples, dtype=np.float64)\n",
    "dispersion_sphere = np.zeros(samples, dtype=np.float64)"
   ]
  },
  {
   "cell_type": "code",
   "execution_count": 57,
   "id": "24abc710-6858-410b-9b0e-b6f1ac4e2019",
   "metadata": {
    "scrolled": true
   },
   "outputs": [
    {
     "name": "stdout",
     "output_type": "stream",
     "text": [
      "0 10.927269697189331\n",
      "1 6.892537593841553\n",
      "2 10.052313327789307\n",
      "3 11.27648401260376\n",
      "4 10.941614389419556\n",
      "5 10.544550657272339\n",
      "6 8.616355895996094\n",
      "7 13.51764440536499\n",
      "8 8.921249866485596\n",
      "9 8.866366624832153\n",
      "10 11.120454549789429\n",
      "11 6.533103704452515\n",
      "12 9.313929557800293\n",
      "13 9.957059383392334\n",
      "14 10.799168586730957\n",
      "15 8.865808725357056\n",
      "16 9.463632345199585\n",
      "17 11.068733930587769\n",
      "18 14.191058158874512\n",
      "19 10.42029881477356\n",
      "20 8.51607894897461\n",
      "21 9.970994472503662\n",
      "22 6.89188814163208\n",
      "23 10.886707544326782\n",
      "24 5.305797338485718\n",
      "25 7.382194757461548\n",
      "26 6.989895582199097\n",
      "27 5.367709636688232\n",
      "28 6.439190864562988\n",
      "29 8.106074571609497\n",
      "30 9.67448878288269\n",
      "31 10.900270938873291\n",
      "32 7.3640711307525635\n",
      "33 12.955904245376587\n",
      "34 9.395968437194824\n",
      "35 6.8915698528289795\n",
      "36 7.76146125793457\n",
      "37 8.59039568901062\n",
      "38 7.187318325042725\n",
      "39 10.820821046829224\n",
      "40 10.154799461364746\n",
      "41 9.016128063201904\n",
      "42 9.965073347091675\n",
      "43 8.01919937133789\n",
      "44 7.605506896972656\n",
      "45 8.436409711837769\n",
      "46 7.881881952285767\n",
      "47 7.1086084842681885\n",
      "48 7.582897663116455\n",
      "49 5.751246213912964\n",
      "50 9.536551475524902\n",
      "51 8.354933023452759\n",
      "52 8.19569182395935\n",
      "53 14.984047651290894\n",
      "54 13.022329807281494\n",
      "55 8.913747072219849\n",
      "56 9.666112184524536\n",
      "57 10.106764078140259\n",
      "58 12.485636711120605\n",
      "59 6.735212802886963\n",
      "60 8.948047876358032\n",
      "61 8.578953742980957\n",
      "62 10.088433980941772\n",
      "63 13.050084114074707\n",
      "64 12.017805337905884\n",
      "65 12.766502618789673\n",
      "66 8.650762796401978\n",
      "67 11.180128812789917\n",
      "68 11.592013597488403\n",
      "69 12.017827033996582\n",
      "70 9.184118032455444\n",
      "71 10.359522342681885\n",
      "72 8.883052587509155\n",
      "73 12.346096754074097\n",
      "74 11.434970617294312\n",
      "75 12.87120270729065\n",
      "76 11.102678298950195\n",
      "77 10.371963024139404\n",
      "78 11.809146165847778\n",
      "79 10.119056463241577\n",
      "80 7.8872010707855225\n",
      "81 11.110832929611206\n",
      "82 10.59511923789978\n",
      "83 10.439514398574829\n",
      "84 9.25691270828247\n",
      "85 11.960762739181519\n",
      "86 7.028518915176392\n",
      "87 10.444028615951538\n",
      "88 9.559629917144775\n",
      "89 8.337972164154053\n",
      "90 11.848868131637573\n",
      "91 9.843064308166504\n",
      "92 10.930026531219482\n",
      "93 10.578521251678467\n",
      "94 7.032516956329346\n",
      "95 7.592926740646362\n",
      "96 7.676621437072754\n",
      "97 10.288329362869263\n",
      "98 8.104588270187378\n",
      "99 9.892677545547485\n"
     ]
    }
   ],
   "source": [
    "for i in indices:\n",
    "    t = time.time()\n",
    "    b = r500 * np.random.rand(3) # impact parameter\n",
    "    n = np.random.rand(3) # direction\n",
    "    n /= np.sqrt(raytrace.norm2(n))\n",
    "    intersects, lengths = raytrace.voronoi_intersect(pos, 5*r.value, b, n, log=False)\n",
    "    dm = np.sum(lengths * n_e.value[intersects])\n",
    "\n",
    "    impact[i] = b\n",
    "    direction[i] = n\n",
    "    dispersion[i] = dm\n",
    "    print(i, time.time() - t)\n"
   ]
  },
  {
   "cell_type": "code",
   "execution_count": 83,
   "id": "42bcf62f-16be-4f48-9c69-80b1a4a22409",
   "metadata": {},
   "outputs": [
    {
     "name": "stdout",
     "output_type": "stream",
     "text": [
      "time: 0.03574231266975403\n"
     ]
    }
   ],
   "source": [
    "dispersion_sphere = np.zeros(samples, dtype=np.float64)\n",
    "for i in indices:\n",
    "    t = time.time()\n",
    "    b = impact[i]\n",
    "    n = direction[i]\n",
    "    intersects, lengths = raytrace.sphere_intersect(pos, r.value, b, n, log=False)\n",
    "    dm = np.sum(lengths * n_e.value[intersects])\n",
    "    dispersion_sphere[i] = dm\n",
    "    times.append(time.time() - t)\n",
    "print('time:',np.mean(times))"
   ]
  },
  {
   "cell_type": "code",
   "execution_count": 81,
   "id": "5d3e71b6-29fa-4145-b4ee-dc2e95de6942",
   "metadata": {},
   "outputs": [
    {
     "name": "stdout",
     "output_type": "stream",
     "text": [
      "<KeysViewHDF5 ['12925051']>\n"
     ]
    }
   ],
   "source": [
    "with h5py.File(\"outputs/dm_proto.hdf5\", \"a\") as f:\n",
    "    print(f.keys())\n",
    "    f[group_id][\"RayID\"] = indices\n",
    "    f[group_id][\"Impact\"] = impact\n",
    "    f[group_id][\"Direction\"] = direction\n",
    "    f[group_id][\"DM\"] = dispersion\n",
    "    f[group_id][\"DMSphere\"] = dispersion_sphere"
   ]
  },
  {
   "cell_type": "code",
   "execution_count": 86,
   "id": "1e61f9cf-a56f-4439-a5da-643014d420b2",
   "metadata": {},
   "outputs": [
    {
     "data": {
      "image/png": "[encoded data removed]",
      "text/plain": [
       "<Figure size 640x480 with 1 Axes>"
      ]
     },
     "metadata": {},
     "output_type": "display_data"
    }
   ],
   "source": [
    "with h5py.File(\"outputs/dm_proto.hdf5\", \"r\") as f:\n",
    "    plt.hist(np.array(f[group_id]['DMSphere'])/np.array(f[group_id]['DM']) - 1)\n",
    "    plt.xlabel('Sphere estimate vs Voronoi truth, relative error in DM')\n",
    "    plt.ylabel('counts')"
   ]
  },
  {
   "cell_type": "code",
   "execution_count": 69,
   "id": "57ed90b5-3740-49fc-9b14-935e3a080e13",
   "metadata": {},
   "outputs": [
    {
     "data": {
      "text/plain": [
       "<module 'raytrace' from '/home/xingyzt/Documents/halo/raytrace.py'>"
      ]
     },
     "execution_count": 69,
     "metadata": {},
     "output_type": "execute_result"
    }
   ],
   "source": [
    "import importlib\n",
    "importlib.reload(raytrace)"
   ]
  },
  {
   "cell_type": "code",
   "execution_count": null,
   "id": "215ac8bc-f2ab-48ea-ad7a-ef9d6a391838",
   "metadata": {},
   "outputs": [],
   "source": []
  }
 ],
 "metadata": {
  "kernelspec": {
   "display_name": "Python 3 (ipykernel)",
   "language": "python",
   "name": "python3"
  },
  "language_info": {
   "codemirror_mode": {
    "name": "ipython",
    "version": 3
   },
   "file_extension": ".py",
   "mimetype": "text/x-python",
   "name": "python",
   "nbconvert_exporter": "python",
   "pygments_lexer": "ipython3",
   "version": "3.10.12"
  }
 },
 "nbformat": 4,
 "nbformat_minor": 5
}
